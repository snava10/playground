{
 "cells": [
  {
   "cell_type": "code",
   "execution_count": null,
   "metadata": {},
   "outputs": [],
   "source": [
    "# Import dependencies\n",
    "\n",
    "import tensorflow as tf\n",
    "import matplotlib.pyplot as plt\n",
    "import pandas as pd\n",
    "from tensorflow import keras\n",
    "import numpy as np"
   ]
  },
  {
   "cell_type": "code",
   "execution_count": null,
   "metadata": {
    "scrolled": false
   },
   "outputs": [],
   "source": [
    "# Exploring data\n",
    "\n",
    "\n",
    "train_df = pd.read_csv('data/train.csv')\n",
    "train_df['Sex'] = train_df['Sex'].apply(lambda sex: 0 if sex=='male' else 1)\n",
    "train_df['Fare'] = train_df['Fare'] / train_df['Fare'].max()\n",
    "#train_df[train_df.isnull().any(axis=1)]\n",
    "\n",
    "nan_age_df = train_df[train_df['Age'].isnull()][['Survived', 'Age']]\n",
    "print(len(nan_age_df), len(train_df))\n",
    "zero_nan_age = nan_age_df[nan_age_df['Survived']==0]\n",
    "one_nan_age = nan_age_df[nan_age_df['Survived']==1]\n",
    "\n",
    "print(len(zero_nan_age), len(one_nan_age))\n",
    "# train_df[train_df['Age'].isnull()][['Survived','Pclass','Name','Sex','Fare','Age']]\n",
    "min_train_df = train_df[['Survived', 'Pclass', 'Sex', 'SibSp', 'Parch', 'Fare']]"
   ]
  },
  {
   "cell_type": "code",
   "execution_count": null,
   "metadata": {
    "scrolled": true
   },
   "outputs": [],
   "source": [
    "train = np.array(min_train_df[['Pclass','Sex','SibSp','Parch','Fare']])\n",
    "labels = np.array(min_train_df['Survived'])\n"
   ]
  },
  {
   "cell_type": "code",
   "execution_count": null,
   "metadata": {
    "scrolled": true
   },
   "outputs": [],
   "source": [
    "# Model construction and training. Single layer NN\n",
    "\n",
    "model = keras.Sequential([keras.layers.Dense(100, activation=tf.nn.relu, input_shape=(5,)), \n",
    "                          keras.layers.Dense(2, activation=tf.nn.softmax)])\n",
    "\n",
    "model.compile(optimizer=tf.train.AdamOptimizer(), loss='sparse_categorical_crossentropy', metrics=['accuracy'])\n",
    "model.fit(train, labels, epochs=100)\n"
   ]
  },
  {
   "cell_type": "code",
   "execution_count": 122,
   "metadata": {
    "scrolled": false
   },
   "outputs": [],
   "source": [
    "test_df = pd.read_csv('data/test.csv')\n",
    "test_df['Sex'] = test_df['Sex'].apply(lambda sex: 0 if sex=='male' else 1)\n",
    "test_df['Fare'] = test_df['Fare'] / test_df['Fare'].max()\n",
    "test = np.array(test_df[['Pclass','Sex','SibSp','Parch','Fare']])\n",
    "#test\n",
    "ids = np.array(test_df['PassengerId'])\n",
    "prediction = np.argmax(model.predict(np.array(test)), axis=1)\n",
    "\n",
    "res = np.array([ids, prediction])\n",
    "#res.shape\n",
    "res\n",
    "res_df = pd.DataFrame(res).T\n",
    "res_df.columns = ['PassengerId', 'Survived']\n",
    "res_df.to_csv('prediction.csv', index=False)"
   ]
  }
 ],
 "metadata": {
  "kernelspec": {
   "display_name": "Python 3",
   "language": "python",
   "name": "python3"
  },
  "language_info": {
   "codemirror_mode": {
    "name": "ipython",
    "version": 3
   },
   "file_extension": ".py",
   "mimetype": "text/x-python",
   "name": "python",
   "nbconvert_exporter": "python",
   "pygments_lexer": "ipython3",
   "version": "3.6.5"
  }
 },
 "nbformat": 4,
 "nbformat_minor": 2
}
