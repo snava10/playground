{
 "cells": [
  {
   "cell_type": "code",
   "execution_count": 1,
   "metadata": {},
   "outputs": [],
   "source": [
    "import numpy as np"
   ]
  },
  {
   "cell_type": "code",
   "execution_count": 2,
   "metadata": {},
   "outputs": [
    {
     "data": {
      "text/plain": [
       "5"
      ]
     },
     "execution_count": 2,
     "metadata": {},
     "output_type": "execute_result"
    }
   ],
   "source": [
    "v = np.ndarray([1,1,2,3])\n",
    "b1 = np.ndarray([1,0,0,0])\n",
    "np.dot([1,1,2,3],[0,1,2,0])"
   ]
  },
  {
   "cell_type": "code",
   "execution_count": 3,
   "metadata": {},
   "outputs": [
    {
     "data": {
      "text/plain": [
       "array([[-1.5,  0.5,  0.5],\n",
       "       [ 2. ,  0. , -1. ],\n",
       "       [ 0.5, -0.5,  0.5]])"
      ]
     },
     "execution_count": 3,
     "metadata": {},
     "output_type": "execute_result"
    }
   ],
   "source": [
    "a = np.array([[1,1,1],[3,2,1],[2,1,2]])\n",
    "np.linalg.inv(a)"
   ]
  },
  {
   "cell_type": "code",
   "execution_count": 11,
   "metadata": {},
   "outputs": [],
   "source": [
    "c = np.array([[7, 1],[-3, 0]])\n",
    "cinv = np.linalg.inv(c)\n",
    "t = np.array([[2,7],[0,-1]])"
   ]
  },
  {
   "cell_type": "code",
   "execution_count": 12,
   "metadata": {},
   "outputs": [
    {
     "data": {
      "text/plain": [
       "array([[-1.00000000e+00,  0.00000000e+00],\n",
       "       [ 1.77635684e-15,  2.00000000e+00]])"
      ]
     },
     "execution_count": 12,
     "metadata": {},
     "output_type": "execute_result"
    }
   ],
   "source": [
    "np.matmul(np.matmul(cinv, t), c)"
   ]
  },
  {
   "cell_type": "code",
   "execution_count": 15,
   "metadata": {},
   "outputs": [
    {
     "data": {
      "text/plain": [
       "array([[ 1.,  0.],\n",
       "       [ 0., -1.]])"
      ]
     },
     "execution_count": 15,
     "metadata": {},
     "output_type": "execute_result"
    }
   ],
   "source": [
    "c = np.array([[1,0],[1,1]])\n",
    "cinv = np.linalg.inv(c)\n",
    "t = np.array([[1,0],[2,-1]])\n",
    "np.matmul(np.matmul(cinv, t), c)"
   ]
  },
  {
   "cell_type": "code",
   "execution_count": 16,
   "metadata": {},
   "outputs": [
    {
     "data": {
      "text/plain": [
       "array([[186., -61.],\n",
       "       [122.,   3.]])"
      ]
     },
     "execution_count": 16,
     "metadata": {},
     "output_type": "execute_result"
    }
   ],
   "source": [
    "c = np.array([[1,1],[1,2]])\n",
    "cinv = np.linalg.inv(c)\n",
    "d = np.array([[125,0],[0,64]])\n",
    "np.matmul(c, np.matmul(d,cinv))"
   ]
  },
  {
   "cell_type": "code",
   "execution_count": 17,
   "metadata": {},
   "outputs": [
    {
     "data": {
      "text/plain": [
       "array([[ 8., 21.],\n",
       "       [ 0., -1.]])"
      ]
     },
     "execution_count": 17,
     "metadata": {},
     "output_type": "execute_result"
    }
   ],
   "source": [
    "c = np.array([[7,1],[-3,0]])\n",
    "cinv = np.linalg.inv(c)\n",
    "d = np.array([[-1,0],[0,8]])\n",
    "np.matmul(c, np.matmul(d,cinv))"
   ]
  },
  {
   "cell_type": "code",
   "execution_count": 22,
   "metadata": {},
   "outputs": [
    {
     "data": {
      "text/plain": [
       "(2.118033988749895, -0.1180339887498949)"
      ]
     },
     "execution_count": 22,
     "metadata": {},
     "output_type": "execute_result"
    }
   ],
   "source": [
    "1 + np.sqrt(5)/2, 1 - np.sqrt(5)/2"
   ]
  },
  {
   "cell_type": "code",
   "execution_count": 4,
   "metadata": {},
   "outputs": [
    {
     "data": {
      "text/plain": [
       "1.0"
      ]
     },
     "execution_count": 4,
     "metadata": {},
     "output_type": "execute_result"
    }
   ],
   "source": [
    "import numpy as np\n",
    "a = np.array([[0,1,0,0],\n",
    "                [1,0,0,0],\n",
    "                [0,0,0,1],\n",
    "                [0,0,1,0]\n",
    "               ])\n",
    "np.linalg.det(a)"
   ]
  },
  {
   "cell_type": "code",
   "execution_count": 10,
   "metadata": {},
   "outputs": [
    {
     "name": "stdout",
     "output_type": "stream",
     "text": [
      "[[1.86602540e+00 5.55111512e-17]\n",
      " [5.55111512e-17 1.33974596e-01]]\n"
     ]
    },
    {
     "data": {
      "text/plain": [
       "array([[1.86602540e+00, 5.20417043e-17],\n",
       "       [0.00000000e+00, 1.33974596e-01]])"
      ]
     },
     "execution_count": 10,
     "metadata": {},
     "output_type": "execute_result"
    }
   ],
   "source": [
    "c = np.array([[-1-np.sqrt(3), -1 + np.sqrt(3)],[1, 1]])\n",
    "a = np.array([[3/2, -1],[-1/2, 1/2]])\n",
    "invC = np.linalg.inv(c)\n",
    "d = invC @ a @ c\n",
    "d1 = np.matmul(invC, np.matmul(a,c))\n",
    "print(d)\n",
    "d1"
   ]
  },
  {
   "cell_type": "code",
   "execution_count": 14,
   "metadata": {},
   "outputs": [
    {
     "data": {
      "text/plain": [
       "array([[ 2.75, -2.  ],\n",
       "       [-1.  ,  0.75]])"
      ]
     },
     "execution_count": 14,
     "metadata": {},
     "output_type": "execute_result"
    }
   ],
   "source": [
    "dd = d @ d\n",
    "aa = c @ dd @ invC\n",
    "aa"
   ]
  },
  {
   "cell_type": "code",
   "execution_count": 16,
   "metadata": {},
   "outputs": [
    {
     "data": {
      "text/plain": [
       "array([[ 2.75, -2.  ],\n",
       "       [-1.  ,  0.75]])"
      ]
     },
     "execution_count": 16,
     "metadata": {},
     "output_type": "execute_result"
    }
   ],
   "source": [
    "checkAA = np.array([[11/4, -2], [-1, 3/4]])\n",
    "checkAA"
   ]
  },
  {
   "cell_type": "code",
   "execution_count": 18,
   "metadata": {},
   "outputs": [
    {
     "data": {
      "text/plain": [
       "(array([ 1., -4., -3.]), array([[-0.6882472 , -0.66666667,  0.40824829],\n",
       "        [-0.6882472 , -0.66666667, -0.40824829],\n",
       "        [-0.22941573,  0.33333333, -0.81649658]]))"
      ]
     },
     "execution_count": 18,
     "metadata": {},
     "output_type": "execute_result"
    }
   ],
   "source": [
    "x = np.array([[4,-5,6],\n",
    "              [7,-8,6],\n",
    "              [3/2,-1/2,-2]])\n",
    "np.linalg.eig(x)\n"
   ]
  }
 ],
 "metadata": {
  "kernelspec": {
   "display_name": "Python 3",
   "language": "python",
   "name": "python3"
  },
  "language_info": {
   "codemirror_mode": {
    "name": "ipython",
    "version": 3
   },
   "file_extension": ".py",
   "mimetype": "text/x-python",
   "name": "python",
   "nbconvert_exporter": "python",
   "pygments_lexer": "ipython3",
   "version": "3.6.7"
  }
 },
 "nbformat": 4,
 "nbformat_minor": 2
}
